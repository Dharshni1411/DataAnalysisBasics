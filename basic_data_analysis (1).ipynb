{
 "cells": [
  {
   "cell_type": "code",
   "execution_count": 2,
   "id": "ba1b76c4",
   "metadata": {},
   "outputs": [
    {
     "data": {
      "text/plain": [
       "45"
      ]
     },
     "execution_count": 2,
     "metadata": {},
     "output_type": "execute_result"
    }
   ],
   "source": [
    "# random sampling\n",
    "import random\n",
    "data=[23,45,56,67,78,98]\n",
    "random.choice(data)\n"
   ]
  },
  {
   "cell_type": "code",
   "execution_count": 3,
   "id": "57fb6a4f",
   "metadata": {},
   "outputs": [
    {
     "data": {
      "text/plain": [
       "[67, 23]"
      ]
     },
     "execution_count": 3,
     "metadata": {},
     "output_type": "execute_result"
    }
   ],
   "source": [
    "random.sample(data,2)"
   ]
  },
  {
   "cell_type": "code",
   "execution_count": 4,
   "id": "c6c884c5",
   "metadata": {},
   "outputs": [
    {
     "data": {
      "text/plain": [
       "[78, 98, 23, 45, 67, 56]"
      ]
     },
     "execution_count": 4,
     "metadata": {},
     "output_type": "execute_result"
    }
   ],
   "source": [
    "random.shuffle(data)\n",
    "data"
   ]
  },
  {
   "cell_type": "code",
   "execution_count": 7,
   "id": "c3d84055",
   "metadata": {},
   "outputs": [
    {
     "name": "stdout",
     "output_type": "stream",
     "text": [
      "random_int 2\n",
      "random_int [3]\n"
     ]
    }
   ],
   "source": [
    "print(\"random_int\",random.randint(1,5))\n",
    "random_list=[]\n",
    "for i in range(0,50):\n",
    "    n=random.randint(1,5)\n",
    "random_list.append(n)\n",
    "print(\"random_int\",random_list)"
   ]
  },
  {
   "cell_type": "code",
   "execution_count": 9,
   "id": "70934764",
   "metadata": {},
   "outputs": [
    {
     "name": "stdout",
     "output_type": "stream",
     "text": [
      "random_float 0.887526502434824\n",
      "random_float [0.9083885730784016]\n"
     ]
    }
   ],
   "source": [
    "print(\"random_float\",random.random())\n",
    "random_list=[]\n",
    "for i in range(0,50):\n",
    "    n=random.random()\n",
    "random_list.append(n)\n",
    "print(\"random_float\",random_list)"
   ]
  },
  {
   "cell_type": "code",
   "execution_count": 10,
   "id": "d04a3576",
   "metadata": {},
   "outputs": [
    {
     "name": "stdout",
     "output_type": "stream",
     "text": [
      "[-1.60173828 -2.46745838 -4.78128683  0.54118922 -2.20782677]\n"
     ]
    }
   ],
   "source": [
    "#unifrom\n",
    "import numpy as np\n",
    "unifrom_data=np.random.uniform(-10,1,5)\n",
    "print(unifrom_data)"
   ]
  },
  {
   "cell_type": "code",
   "execution_count": 11,
   "id": "cb8205ca",
   "metadata": {},
   "outputs": [
    {
     "name": "stdout",
     "output_type": "stream",
     "text": [
      "[-6.30943374 -8.66700378 -5.29914287 -7.109193   -3.15781239]\n"
     ]
    }
   ],
   "source": [
    "#normal\n",
    "import numpy as np\n",
    "unifrom_data=np.random.uniform(-10,0,5)\n",
    "print(unifrom_data)"
   ]
  },
  {
   "cell_type": "code",
   "execution_count": 6,
   "id": "29e1e28b",
   "metadata": {},
   "outputs": [
    {
     "data": {
      "text/plain": [
       "(-4.735369976417822, 2.186558501261245e-06)"
      ]
     },
     "execution_count": 6,
     "metadata": {},
     "output_type": "execute_result"
    }
   ],
   "source": [
    "# ztest one sample\n",
    "from statsmodels.stats.weightstats import ztest\n",
    "d1=[12,34,67,56]\n",
    "ztest=ztest(d1,value=100)\n",
    "ztest"
   ]
  },
  {
   "cell_type": "code",
   "execution_count": 8,
   "id": "3cddb7f6",
   "metadata": {},
   "outputs": [
    {
     "data": {
      "text/plain": [
       "(-5.991122909689657, 2.083970604317565e-09)"
      ]
     },
     "execution_count": 8,
     "metadata": {},
     "output_type": "execute_result"
    }
   ],
   "source": [
    "#ztest fro 2 sample\n",
    "from statsmodels.stats.weightstats import ztest\n",
    "d1=[12,34,67,56]\n",
    "d2=[23,45,78,89]\n",
    "ztest=ztest(d1,d2,value=100)\n",
    "ztest"
   ]
  },
  {
   "cell_type": "code",
   "execution_count": 17,
   "id": "c8d8ddab",
   "metadata": {},
   "outputs": [
    {
     "data": {
      "text/plain": [
       "Ttest_1sampResult(statistic=-0.3247183598994884, pvalue=0.7528148093924792)"
      ]
     },
     "execution_count": 17,
     "metadata": {},
     "output_type": "execute_result"
    }
   ],
   "source": [
    "#ttest for one sample\n",
    "import numpy as np\n",
    "from scipy import stats as st\n",
    "import random\n",
    "d1=np.random.normal(1,12.9,10)\n",
    "ttest=st.ttest_1samp(d1,6)\n",
    "ttest"
   ]
  },
  {
   "cell_type": "code",
   "execution_count": 31,
   "id": "f7c75c88",
   "metadata": {},
   "outputs": [
    {
     "data": {
      "text/plain": [
       "Ttest_indResult(statistic=0.4152584806140933, pvalue=0.6828606535038808)"
      ]
     },
     "execution_count": 31,
     "metadata": {},
     "output_type": "execute_result"
    }
   ],
   "source": [
    "#ttest for two sapmple\n",
    "import numpy as np\n",
    "from scipy.stats import ttest_ind\n",
    "d1=np.random.normal(1,12.9,10)\n",
    "d2=np.random.normal(2,12,10)\n",
    "ttest=ttest_ind(d1,d2)\n",
    "ttest"
   ]
  },
  {
   "cell_type": "code",
   "execution_count": 3,
   "id": "779c152a",
   "metadata": {},
   "outputs": [
    {
     "name": "stdout",
     "output_type": "stream",
     "text": [
      "  align choice  time  coherence  firing_rate\n",
      "0  dots     T1   -80        0.0    33.189967\n",
      "1  dots     T1   -80        3.2    31.691726\n",
      "2  dots     T1   -80        6.4    34.279840\n",
      "3  dots     T1   -80       12.8    32.631874\n",
      "4  dots     T1   -80       25.6    35.060487\n",
      "Ttest_indResult(statistic=-39.476594295394655, pvalue=3.1596692809063068e-242)\n"
     ]
    }
   ],
   "source": [
    "#ttest using dataset\n",
    "\n",
    "import seaborn as sb\n",
    "from scipy.stats import ttest_ind\n",
    "dt=sb.load_dataset('dots')\n",
    "print(dt.head())\n",
    "x=dt.coherence\n",
    "y=dt.firing_rate\n",
    "ttest_val=ttest_ind(x,y)\n",
    "print(ttest_val)"
   ]
  },
  {
   "cell_type": "code",
   "execution_count": 5,
   "id": "7e155f22",
   "metadata": {},
   "outputs": [
    {
     "data": {
      "text/plain": [
       "['anagrams',\n",
       " 'anscombe',\n",
       " 'attention',\n",
       " 'brain_networks',\n",
       " 'car_crashes',\n",
       " 'diamonds',\n",
       " 'dots',\n",
       " 'exercise',\n",
       " 'flights',\n",
       " 'fmri',\n",
       " 'gammas',\n",
       " 'geyser',\n",
       " 'iris',\n",
       " 'mpg',\n",
       " 'penguins',\n",
       " 'planets',\n",
       " 'taxis',\n",
       " 'tips',\n",
       " 'titanic']"
      ]
     },
     "execution_count": 5,
     "metadata": {},
     "output_type": "execute_result"
    }
   ],
   "source": [
    "sb.get_dataset_names()"
   ]
  },
  {
   "cell_type": "code",
   "execution_count": 18,
   "id": "8d74029d",
   "metadata": {},
   "outputs": [
    {
     "name": "stdout",
     "output_type": "stream",
     "text": [
      "Average mark for college A: 25.0\n",
      "Average mark for college B: 26.5\n",
      "Average mark for college C: 26.0\n",
      "Overall mean: 25.833333333333332\n",
      "Sum of Squares Between: 7\n",
      "Between-groups Mean Square value: 3.4999999999999996\n",
      "Sum of Squares Within: 223.5\n",
      "Within-group Mean Square value: 14.9\n",
      "Degrees of Freedom for SSB: 2\n",
      "Degrees of Freedom for SSW: 15\n",
      "F-Statistic: 0.234899\n",
      "F_onewayResult(statistic=0.2348993288590604, pvalue=0.793504662732833)\n"
     ]
    }
   ],
   "source": [
    "#ANOVA \n",
    "import pandas as pd\n",
    "import numpy as np\n",
    "import scipy.stats as stats\n",
    "a=[25,25,27,30,23,20] \n",
    "b=[30,30,21,24,26,28]\n",
    "c=[18,30,29,29,24,26]\n",
    "list_of_tuples = list(zip(a, b,c))\n",
    "df = pd.DataFrame(list_of_tuples, columns = ['A', 'B', 'C']) \n",
    "df\n",
    "m1=np.mean(a)\n",
    "m2=np.mean(b)\n",
    "m3=np.mean(c)\n",
    "print('Average mark for college A: {}'.format(m1)) \n",
    "print('Average mark for college B: {}'.format(m2)) \n",
    "print('Average mark for college C: {}'.format(m3)) \n",
    "m=(m1+m2+m3)/3\n",
    "print('Overall mean: {}'.format(m)) \n",
    "v1=np.var(a)\n",
    "v2=np.var(b)\n",
    "v3=np.var(c)\n",
    "# Sum of Squares Between\n",
    "SSB = 6*(m - m1)**2 + \\\n",
    "      6*(m - m2)**2 + \\\n",
    "      6*(m - m3)**2 \n",
    "\n",
    "print('Sum of Squares Between: {0:.6g}'.format(SSB))\n",
    "MSb=SSb/2\n",
    "print('Between-groups Mean Square value: {}'.format(MSb))\n",
    "\n",
    "\n",
    "# Sum of Squares Within (variance times n yields sum of squares)\n",
    "SSW = 6*v1 + \\\n",
    "       6*v2 + \\\n",
    "      6*v3\n",
    "\n",
    "print('Sum of Squares Within: {0:.9g}'.format(SSW))\n",
    "MSw=SSw/15\n",
    "print('Within-group Mean Square value: {}'.format(MSw)) \n",
    "\n",
    "# Degrees of Freedom \n",
    "dof_SSB = 2\n",
    "dof_SSW = 15\n",
    "\n",
    "print('Degrees of Freedom for SSB: {}'.format(dof_SSB))\n",
    "print('Degrees of Freedom for SSW: {}'.format(dof_SSW))\n",
    "\n",
    "\n",
    "# F Stastics \n",
    "f_stat = (SSB/dof_SSB) / (SSW/dof_SSW)\n",
    "\n",
    "print('F-Statistic: {0:.6g}'.format(f_stat))\n",
    "print(stats.f_oneway(a,b,c))"
   ]
  },
  {
   "cell_type": "code",
   "execution_count": 12,
   "id": "d8021cc5",
   "metadata": {},
   "outputs": [
    {
     "name": "stdout",
     "output_type": "stream",
     "text": [
      "estimate coef:\n",
      " b_0=-0.14074816375334587 n b_1=0.07085065193873485\n"
     ]
    },
    {
     "data": {
      "image/png": "[encoded data removed]",
      "text/plain": [
       "<Figure size 432x288 with 1 Axes>"
      ]
     },
     "metadata": {
      "needs_background": "light"
     },
     "output_type": "display_data"
    }
   ],
   "source": [
    "# linear regression\n",
    "import numpy as np\n",
    "import matplotlib.pyplot as plt\n",
    "def estimate_coef(x,y):\n",
    "    n=np.size(x)\n",
    "    m_x,m_y=np.mean(x),np.mean(y)\n",
    "    ss_xy=np.sum(y*x-n*m_y*m_x)\n",
    "    ss_xx=np.sum(x*x-n*m_x*m_x)\n",
    "    b_1=ss_xy/ss_xx\n",
    "    b_0=m_y-b_1*m_x\n",
    "    return(b_0,b_1)\n",
    "def plot_regression(x,y,b):\n",
    "    plt.scatter(x,y,color=\"m\",marker=\"o\",s=30)\n",
    "    y_pred=b[0]+b[1]*x\n",
    "    plt.plot(x, y_pred, color = \"g\")\n",
    "    plt.xlabel(\"x\")\n",
    "    plt.ylabel(\"y\")\n",
    "    plt.show()\n",
    "x=np.array([25,34,56,78,23])\n",
    "y=np.array([2.3,3.2,3.1,3.4,2.6])\n",
    "b=estimate_coef(x,y)\n",
    "print(\"estimate coef:\\n b_0={} n b_1={}\".format(b[0],b[1]))\n",
    "plot_regression(x,y,b)"
   ]
  },
  {
   "cell_type": "code",
   "execution_count": 20,
   "id": "6662c957",
   "metadata": {},
   "outputs": [
    {
     "name": "stdout",
     "output_type": "stream",
     "text": [
      "score :  0.9\n",
      "matrix :  [[3 1]\n",
      " [0 6]]\n"
     ]
    },
    {
     "data": {
      "image/png": "[encoded data removed]",
      "text/plain": [
       "<Figure size 360x360 with 1 Axes>"
      ]
     },
     "metadata": {
      "needs_background": "light"
     },
     "output_type": "display_data"
    }
   ],
   "source": [
    "#logistic regression\n",
    "\n",
    "#import necessary packages\n",
    "import matplotlib.pyplot as plt\n",
    "import numpy as np\n",
    "from sklearn.linear_model import LogisticRegression\n",
    "from sklearn.metrics import confusion_matrix\n",
    "\n",
    "#get data \n",
    "x = np.arange(10).reshape(-1, 1)\n",
    "y = np.array([0, 0, 0, 0, 1, 1, 1, 1, 1, 1])\n",
    "\n",
    "#Create a Model and Train It\n",
    "model = LogisticRegression(solver='liblinear', random_state=0)\n",
    "model.fit(x, y)\n",
    "model.predict(x)\n",
    "print('score : ',model.score(x, y))\n",
    "cm = confusion_matrix(y, model.predict(x))\n",
    "print('matrix : ',cm)\n",
    "\n",
    "#plot the regression\n",
    "fig, ax = plt.subplots(figsize=(5, 5))\n",
    "ax.imshow(cm)\n",
    "ax.grid(True)\n",
    "ax.xaxis.set(ticks=(0, 1), ticklabels=('Predicted 0s', 'Predicted 1s'))\n",
    "ax.yaxis.set(ticks=(0, 1), ticklabels=('Actual 0s', 'Actual 1s'))\n",
    "ax.set_ylim(1.5, -0.5)\n",
    "for i in range(2):\n",
    "    for j in range(2):\n",
    "        ax.text(j, i, cm[i, j], ha='center', va='center', color='white')\n",
    "plt.show()"
   ]
  },
  {
   "cell_type": "code",
   "execution_count": 21,
   "id": "d4607d24",
   "metadata": {},
   "outputs": [
    {
     "name": "stdout",
     "output_type": "stream",
     "text": [
      "predicted y :  [7.90085453]\n"
     ]
    },
    {
     "data": {
      "image/png": "[encoded data removed]",
      "text/plain": [
       "<Figure size 432x288 with 1 Axes>"
      ]
     },
     "metadata": {
      "needs_background": "light"
     },
     "output_type": "display_data"
    }
   ],
   "source": [
    "#multiple linear regression\n",
    "\n",
    "#import necessary packages\n",
    "import pandas as pd\n",
    "import numpy as np\n",
    "import matplotlib.pyplot as plt\n",
    "import seaborn as sb\n",
    "from sklearn.linear_model import LinearRegression\n",
    "\n",
    "\n",
    "#get data set from seaborn\n",
    "data=sb.load_dataset('car_crashes')\n",
    "data\n",
    "features=['total','speeding']\n",
    "X=data[features]\n",
    "x1 = X['total']\n",
    "x2 = X['speeding']\n",
    "y = data.alcohol\n",
    "\n",
    "#plot - 3D\n",
    "fig = plt.figure()\n",
    "ax = fig.add_subplot(111, projection='3d')\n",
    "ax.scatter(x1, x2, y, c='r', marker='o')\n",
    "\n",
    "# Set axis labels\n",
    "ax.set_xlabel('total')\n",
    "ax.set_ylabel('speeding')\n",
    "ax.set_zlabel('alcohol')\n",
    "\n",
    "#Implement our Multiple Linear Regression Model\n",
    "mlr_model = LinearRegression()\n",
    "mlr_model.fit(X,y)\n",
    "y_pred = mlr_model.predict([[15,21]])\n",
    "print('predicted y : ',y_pred)"
   ]
  },
  {
   "cell_type": "code",
   "execution_count": 19,
   "id": "7701aeda",
   "metadata": {},
   "outputs": [
    {
     "name": "stdout",
     "output_type": "stream",
     "text": [
      "   total_bill   tip     sex smoker  day    time  size\n",
      "0       16.99  1.01  Female     No  Sun  Dinner     2\n",
      "1       10.34  1.66    Male     No  Sun  Dinner     3\n",
      "2       21.01  3.50    Male     No  Sun  Dinner     3\n",
      "3       23.68  3.31    Male     No  Sun  Dinner     2\n",
      "4       24.59  3.61  Female     No  Sun  Dinner     4\n"
     ]
    },
    {
     "data": {
      "image/png": "[encoded data removed]",
      "text/plain": [
       "<Figure size 1080x432 with 1 Axes>"
      ]
     },
     "metadata": {
      "needs_background": "light"
     },
     "output_type": "display_data"
    }
   ],
   "source": [
    "#time series\n",
    "#time series analysis\n",
    "from datetime import datetime\n",
    "import pandas as pd\n",
    "import matplotlib.pyplot as plt\n",
    "# Seaborn for plotting and styling\n",
    "import seaborn as sb\n",
    "df = sb.load_dataset('tips')\n",
    "print (df.head())\n",
    "df['total_bill'] = pd.to_datetime(df['total_bill'])\n",
    "df.index = df['total_bill']\n",
    "del df['total_bill']\n",
    "df.plot(figsize=(15, 6))\n",
    "plt.show()"
   ]
  }
 ],
 "metadata": {
  "kernelspec": {
   "display_name": "Python 3",
   "language": "python",
   "name": "python3"
  },
  "language_info": {
   "codemirror_mode": {
    "name": "ipython",
    "version": 3
   },
   "file_extension": ".py",
   "mimetype": "text/x-python",
   "name": "python",
   "nbconvert_exporter": "python",
   "pygments_lexer": "ipython3",
   "version": "3.8.8"
  }
 },
 "nbformat": 4,
 "nbformat_minor": 5
}
